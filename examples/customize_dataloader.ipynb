{
 "cells": [
  {
   "cell_type": "markdown",
   "metadata": {},
   "source": [
    "# Customize DataLoader\n",
    "\n",
    "This example shows **how to customize your own dataloader** for a new target dataset in **ZhiJian**.\n",
    "\n",
    "Feel free to deploy model reusability technology on *any* dataset, with loading in the conventional `PyTorch` style."
   ]
  },
  {
   "cell_type": "markdown",
   "metadata": {},
   "source": [
    "+ Configure basic parameters, without dataset configuration:"
   ]
  },
  {
   "cell_type": "code",
   "execution_count": 5,
   "metadata": {},
   "outputs": [
    {
     "name": "stdout",
     "output_type": "stream",
     "text": [
      "{'aa': None,\n",
      " 'addins': [{'hook': [['adapt', 'post']],\n",
      "             'location': [['blocks', 0, 'attn', 'qkv']],\n",
      "             'name': 'LoRA'},\n",
      "            {'hook': [['adapt', 'post']],\n",
      "             'location': [['blocks', 1, 'attn', 'qkv']],\n",
      "             'name': 'LoRA'},\n",
      "            {'hook': [['adapt', 'post']],\n",
      "             'location': [['blocks', 2, 'attn', 'qkv']],\n",
      "             'name': 'LoRA'},\n",
      "            {'hook': [['adapt', 'post']],\n",
      "             'location': [['blocks', 3, 'attn', 'qkv']],\n",
      "             'name': 'LoRA'},\n",
      "            {'hook': [['adapt', 'post']],\n",
      "             'location': [['blocks', 4, 'attn', 'qkv']],\n",
      "             'name': 'LoRA'},\n",
      "            {'hook': [['adapt', 'post']],\n",
      "             'location': [['blocks', 5, 'attn', 'qkv']],\n",
      "             'name': 'LoRA'},\n",
      "            {'hook': [['adapt', 'post']],\n",
      "             'location': [['blocks', 6, 'attn', 'qkv']],\n",
      "             'name': 'LoRA'},\n",
      "            {'hook': [['adapt', 'post']],\n",
      "             'location': [['blocks', 7, 'attn', 'qkv']],\n",
      "             'name': 'LoRA'},\n",
      "            {'hook': [['adapt', 'post']],\n",
      "             'location': [['blocks', 8, 'attn', 'qkv']],\n",
      "             'name': 'LoRA'},\n",
      "            {'hook': [['adapt', 'post']],\n",
      "             'location': [['blocks', 9, 'attn', 'qkv']],\n",
      "             'name': 'LoRA'},\n",
      "            {'hook': [['adapt', 'post']],\n",
      "             'location': [['blocks', 10, 'attn', 'qkv']],\n",
      "             'name': 'LoRA'},\n",
      "            {'hook': [['adapt', 'post']],\n",
      "             'location': [['blocks', 11, 'attn', 'qkv']],\n",
      "             'name': 'LoRA'}],\n",
      " 'amp': False,\n",
      " 'amp_dtype': 'float16',\n",
      " 'amp_impl': 'native',\n",
      " 'aot_autograd': False,\n",
      " 'aug_repeats': 0,\n",
      " 'aug_splits': 0,\n",
      " 'batch_size': 64,\n",
      " 'bce_loss': False,\n",
      " 'bce_target_thresh': None,\n",
      " 'bn_eps': None,\n",
      " 'bn_momentum': None,\n",
      " 'channels_last': False,\n",
      " 'checkpoint_hist': 10,\n",
      " 'class_map': '',\n",
      " 'clip_grad': None,\n",
      " 'clip_mode': 'norm',\n",
      " 'color_jitter': 0.4,\n",
      " 'config_blitz': '(LoRA.adapt): ...->(blocks[0:12].attn.qkv){inout1}->...',\n",
      " 'cooldown_epochs': 0,\n",
      " 'crop_mode': None,\n",
      " 'crop_pct': None,\n",
      " 'cutmix': 0.0,\n",
      " 'cutmix_minmax': None,\n",
      " 'data': None,\n",
      " 'data_dir': None,\n",
      " 'dataset': 'Customized',\n",
      " 'dataset_download': False,\n",
      " 'decay_epochs': 90,\n",
      " 'decay_milestones': [90, 180, 270],\n",
      " 'decay_rate': 0.1,\n",
      " 'dist_bn': 'reduce',\n",
      " 'drop': 0.0,\n",
      " 'drop_block': None,\n",
      " 'drop_connect': None,\n",
      " 'drop_path': None,\n",
      " 'epoch_repeats': 0.0,\n",
      " 'epochs': 300,\n",
      " 'eta_min': 0,\n",
      " 'eval_metric': 'top1',\n",
      " 'experiment': '',\n",
      " 'fast_norm': False,\n",
      " 'fuser': '',\n",
      " 'gp': None,\n",
      " 'gpu': '0',\n",
      " 'grad_checkpointing': False,\n",
      " 'hflip': 0.5,\n",
      " 'img_size': None,\n",
      " 'in_chans': None,\n",
      " 'initial_checkpoint': '',\n",
      " 'input_size': None,\n",
      " 'interpolation': '',\n",
      " 'jsd_loss': False,\n",
      " 'layer_decay': None,\n",
      " 'local_rank': 0,\n",
      " 'log_url': 'your/log/directory',\n",
      " 'log_wandb': False,\n",
      " 'lora_dim': 8,\n",
      " 'lora_dropout': 0.5,\n",
      " 'lr': 0.001,\n",
      " 'lr_base': 0.1,\n",
      " 'lr_base_scale': '',\n",
      " 'lr_base_size': 256,\n",
      " 'lr_cycle_decay': 0.5,\n",
      " 'lr_cycle_limit': 1,\n",
      " 'lr_cycle_mul': 1.0,\n",
      " 'lr_k_decay': 1.0,\n",
      " 'lr_noise': None,\n",
      " 'lr_noise_pct': 0.67,\n",
      " 'lr_noise_std': 1.0,\n",
      " 'max_epoch': 5,\n",
      " 'mean': None,\n",
      " 'min_lr': 0,\n",
      " 'mixup': 0.0,\n",
      " 'mixup_mode': 'batch',\n",
      " 'mixup_off_epoch': 0,\n",
      " 'mixup_prob': 1.0,\n",
      " 'mixup_switch_prob': 0.5,\n",
      " 'model': 'timm.vit_base_patch16_224_in21k',\n",
      " 'model_ema': False,\n",
      " 'model_ema_decay': 0.9998,\n",
      " 'model_ema_force_cpu': False,\n",
      " 'momentum': 0.9,\n",
      " 'no_aug': False,\n",
      " 'no_ddp_bb': False,\n",
      " 'no_prefetcher': False,\n",
      " 'no_resume_opt': False,\n",
      " 'num_classes': None,\n",
      " 'num_workers': 8,\n",
      " 'only_do_test': False,\n",
      " 'opt': 'sgd',\n",
      " 'opt_betas': None,\n",
      " 'opt_eps': None,\n",
      " 'optimizer': 'adam',\n",
      " 'output': '',\n",
      " 'patience_epochs': 10,\n",
      " 'pin_mem': False,\n",
      " 'pretrained': False,\n",
      " 'pretrained_url': [],\n",
      " 'ratio': [0.75, 1.3333333333333333],\n",
      " 'recount': 1,\n",
      " 'recovery_interval': 0,\n",
      " 'remode': 'pixel',\n",
      " 'reprob': 0.0,\n",
      " 'resplit': False,\n",
      " 'resume': '',\n",
      " 'reuse_keys': [['addin'], ['head'], ['fc_norm']],\n",
      " 'reuse_keys_blitz': 'addin,head,fc_norm',\n",
      " 'save_images': False,\n",
      " 'scale': [0.08, 1.0],\n",
      " 'sched': 'cosine',\n",
      " 'sched_on_updates': False,\n",
      " 'seed': 0,\n",
      " 'smoothing': 0.1,\n",
      " 'split_bn': False,\n",
      " 'start_epoch': None,\n",
      " 'std': None,\n",
      " 'sync_bn': False,\n",
      " 'time_str': '0718-20-10-57-792',\n",
      " 'torchcompile': None,\n",
      " 'torchscript': False,\n",
      " 'train_interpolation': 'random',\n",
      " 'train_split': 'train',\n",
      " 'training_mode': 'finetune',\n",
      " 'tta': 0,\n",
      " 'use_multi_epochs_loader': False,\n",
      " 'val_split': 'validation',\n",
      " 'validation_batch_size': None,\n",
      " 'verbose': True,\n",
      " 'vflip': 0.0,\n",
      " 'warmup_epochs': 5,\n",
      " 'warmup_lr': 1e-05,\n",
      " 'warmup_prefix': False,\n",
      " 'wd': 5e-05,\n",
      " 'weight_decay': 2e-05,\n",
      " 'worker_seeding': 'all'}\n"
     ]
    }
   ],
   "source": [
    "from zhijian.trainers.base import prepare_args\n",
    "from zhijian.models.utils import pprint, dict2args\n",
    "training_mode = 'finetune'\n",
    "args = dict2args({\n",
    "    'dataset': 'Customized',\n",
    "    'log_url': 'your/log/directory',                                           # log directory\n",
    "    'model': 'timm.vit_base_patch16_224_in21k',                                # backbone network\n",
    "    'config_blitz': \"(LoRA.adapt): ...->(blocks[0:12].attn.qkv){inout1}->...\", # addin blitz configuration\n",
    "    'training_mode': training_mode,                                            # training mode\n",
    "    'reuse_keys_blitz': \"addin,head,fc_norm\",                                  # reuse keys blitz configuration\n",
    "    'optimizer': 'adam',                                                       # optimizer\n",
    "    'batch_size': 64,                                                          # batch size\n",
    "    'num_workers': 8,                                                          # num workers\n",
    "    'max_epoch': 5,                                                            # max epoch\n",
    "    'eta_min': 0,                                                              # eta_min of CosineAnnealingLR\n",
    "    'lr': 1e-3,                                                                # learning rate\n",
    "    'wd': 5e-5,                                                                # weight decay\n",
    "    'gpu': '0',                                                                # gpu id\n",
    "    'seed': 0,                                                                 # random seed\n",
    "    'verbose': True,                                                           # control the verbosity of the output\n",
    "    'only_do_test': False                                                      # test flag\n",
    "})      \n",
    "\n",
    "args = prepare_args(args, update_default=True)\n",
    "pprint(vars(args))"
   ]
  },
  {
   "cell_type": "markdown",
   "metadata": {},
   "source": [
    "+ Set up the GPU and prepare the model:"
   ]
  },
  {
   "cell_type": "code",
   "execution_count": 6,
   "metadata": {},
   "outputs": [
    {
     "name": "stderr",
     "output_type": "stream",
     "text": [
      "/home/zhangyk/miniconda3/envs/zykycy/lib/python3.9/site-packages/timm/models/_factory.py:114: UserWarning: Mapping deprecated model name vit_base_patch16_224_in21k to current vit_base_patch16_224.augreg_in21k.\n",
      "  model = create_fn(\n"
     ]
    }
   ],
   "source": [
    "import torch\n",
    "import os\n",
    "from zhijian.trainers.finetune import get_model\n",
    "\n",
    "assert torch.cuda.is_available()\n",
    "os.environ['CUDA_VISIBLE_DEVICES'] = args.gpu\n",
    "torch.cuda.set_device(int(args.gpu))\n",
    "\n",
    "model, model_args, device = get_model(args)"
   ]
  },
  {
   "cell_type": "markdown",
   "metadata": {},
   "source": [
    "+ Organize the custom dataset in the following structure: within the `your/dataset/dir` directory, create a separate folder for each category, and store all the data corresponding to each category within its respective folder:\n",
    "\n",
    "    ```bash\n",
    "    $ /your/dataset/directory\n",
    "      ├── train\n",
    "      │   ├── class_1\n",
    "      │   │   ├── train_class_1_img_1.jpg\n",
    "      │   │   ├── train_class_1_img_2.jpg\n",
    "      │   │   ├── train_class_1_img_3.jpg\n",
    "      │   │   └── ...\n",
    "      │   ├── class_2\n",
    "      │   │   ├── train_class_2_img_1.jpg\n",
    "      │   │   └── ...\n",
    "      │   ├── class_3\n",
    "      │   │   └── ...\n",
    "      │   ├── class_4\n",
    "      │   │   └── ...\n",
    "      │   ├── class_5\n",
    "      │   │   └── ...\n",
    "      └── test\n",
    "          ├── class_1\n",
    "          │   ├── test_class_1_img_1.jpg\n",
    "          │   ├── test_class_1_img_2.jpg\n",
    "          │   ├── test_class_1_img_3.jpg\n",
    "          │   └── ...\n",
    "          ├── class_2\n",
    "          │   ├── test_class_2_img_1.jpg\n",
    "          │   └── ...\n",
    "          ├── class_3\n",
    "          │   └── ...\n",
    "          ├── class_4\n",
    "          │   └── ...\n",
    "          └── class_5\n",
    "              └── ...\n",
    "    ```"
   ]
  },
  {
   "cell_type": "markdown",
   "metadata": {},
   "source": [
    "+ Set up the custom dataset:"
   ]
  },
  {
   "cell_type": "code",
   "execution_count": 11,
   "metadata": {},
   "outputs": [],
   "source": [
    "import torchvision.transforms as transforms\n",
    "from torchvision.datasets.folder import ImageFolder\n",
    "\n",
    "train_transform = transforms.Compose([\n",
    "    transforms.RandomResizedCrop(224),\n",
    "    transforms.RandomHorizontalFlip(),\n",
    "    transforms.ToTensor(),\n",
    "    transforms.Normalize(\n",
    "        mean=[0.485, 0.456, 0.406], std=[0.229, 0.224, 0.225]\n",
    "    )\n",
    "])\n",
    "val_transform = transforms.Compose([\n",
    "    transforms.Resize(256),\n",
    "    transforms.CenterCrop(224),\n",
    "    transforms.ToTensor(),\n",
    "    transforms.Normalize(\n",
    "        mean=[0.485, 0.456, 0.406], std=[0.229, 0.224, 0.225]\n",
    "    )\n",
    "])\n",
    "\n",
    "train_dataset = ImageFolder(root='/data/zhangyk/data/custom/train', transform=train_transform)\n",
    "val_dataset = ImageFolder(root='/data/zhangyk/data/custom/test', transform=val_transform)"
   ]
  },
  {
   "cell_type": "markdown",
   "metadata": {},
   "source": [
    "+ Implement the corresponding loader:"
   ]
  },
  {
   "cell_type": "code",
   "execution_count": 12,
   "metadata": {},
   "outputs": [],
   "source": [
    "train_loader = torch.utils.data.DataLoader(\n",
    "        train_dataset,\n",
    "        batch_size=args.batch_size,\n",
    "        num_workers=args.num_workers,\n",
    "        pin_memory=True,\n",
    "        shuffle=True\n",
    "    )\n",
    "val_loader = torch.utils.data.DataLoader(\n",
    "        val_dataset,\n",
    "        batch_size=args.batch_size,\n",
    "        num_workers=args.num_workers,\n",
    "        pin_memory=True,\n",
    "        shuffle=True\n",
    "    )\n",
    "num_classes = len(train_dataset.classes)"
   ]
  },
  {
   "cell_type": "markdown",
   "metadata": {},
   "source": [
    "+ Set up the optimizer and the loss function:"
   ]
  },
  {
   "cell_type": "code",
   "execution_count": 13,
   "metadata": {},
   "outputs": [],
   "source": [
    "import torch.optim as optim\n",
    "import torch.nn as nn\n",
    "\n",
    "optimizer = optim.Adam(\n",
    "    model.parameters(),\n",
    "    lr=args.lr,\n",
    "    weight_decay=args.wd\n",
    "    )\n",
    "lr_scheduler = optim.lr_scheduler.CosineAnnealingLR(\n",
    "    optimizer,\n",
    "    args.max_epoch,\n",
    "    eta_min=args.eta_min\n",
    "    )\n",
    "criterion = nn.CrossEntropyLoss()"
   ]
  },
  {
   "cell_type": "markdown",
   "metadata": {},
   "source": [
    "+ Set up the trainer and start training and testing:"
   ]
  },
  {
   "cell_type": "code",
   "execution_count": 14,
   "metadata": {},
   "outputs": [
    {
     "name": "stderr",
     "output_type": "stream",
     "text": [
      "Log level set to: INFO\n",
      "Log files are recorded in: your/log/directory/0718-20-10-57-792\n",
      "Trainable/total parameters of the model: 0.30M / 86.10M (0.34700%)\n"
     ]
    },
    {
     "name": "stdout",
     "output_type": "stream",
     "text": [
      "\n",
      "      Epoch   GPU Mem.       Time       Loss         LR\n"
     ]
    },
    {
     "name": "stderr",
     "output_type": "stream",
     "text": [
      "        1/5      5.48G      1.686       1.73      0.001: 100%|██████████| 1.00/1.00 [00:01<00:00, 1.22s/batch]\n"
     ]
    },
    {
     "name": "stdout",
     "output_type": "stream",
     "text": [
      "\n",
      "      Epoch   GPU Mem.       Time      Acc@1      Acc@5\n"
     ]
    },
    {
     "name": "stderr",
     "output_type": "stream",
     "text": [
      "        1/5      5.48G     0.3243         16        100: 100%|██████████| 1.00/1.00 [00:00<00:00, 2.39batch/s]\n",
      "***   Best results: [Acc@1: 16.0], [Acc@5: 100.0]\n"
     ]
    },
    {
     "name": "stdout",
     "output_type": "stream",
     "text": [
      "\n",
      "      Epoch   GPU Mem.       Time       Loss         LR\n"
     ]
    },
    {
     "name": "stderr",
     "output_type": "stream",
     "text": [
      "        2/5       5.6G      1.093      1.448 0.00090451: 100%|██████████| 1.00/1.00 [00:00<00:00, 1.52batch/s]\n"
     ]
    },
    {
     "name": "stdout",
     "output_type": "stream",
     "text": [
      "\n",
      "      Epoch   GPU Mem.       Time      Acc@1      Acc@5\n"
     ]
    },
    {
     "name": "stderr",
     "output_type": "stream",
     "text": [
      "        2/5       5.6G     0.2647         12        100: 100%|██████████| 1.00/1.00 [00:00<00:00, 2.58batch/s]\n",
      "***   Best results: [Acc@1: 12.0], [Acc@5: 100.0]\n"
     ]
    },
    {
     "name": "stdout",
     "output_type": "stream",
     "text": [
      "\n",
      "      Epoch   GPU Mem.       Time       Loss         LR\n"
     ]
    },
    {
     "name": "stderr",
     "output_type": "stream",
     "text": [
      "        3/5       5.6G      1.088      1.369 0.00065451: 100%|██████████| 1.00/1.00 [00:00<00:00, 1.54batch/s]\n"
     ]
    },
    {
     "name": "stdout",
     "output_type": "stream",
     "text": [
      "\n",
      "      Epoch   GPU Mem.       Time      Acc@1      Acc@5\n"
     ]
    },
    {
     "name": "stderr",
     "output_type": "stream",
     "text": [
      "        3/5       5.6G     0.2899         12        100: 100%|██████████| 1.00/1.00 [00:00<00:00, 2.54batch/s]\n",
      "***   Best results: [Acc@1: 12.0], [Acc@5: 100.0]\n"
     ]
    },
    {
     "name": "stdout",
     "output_type": "stream",
     "text": [
      "\n",
      "      Epoch   GPU Mem.       Time       Loss         LR\n"
     ]
    },
    {
     "name": "stderr",
     "output_type": "stream",
     "text": [
      "        4/5       5.6G      1.067      1.403 0.00034549: 100%|██████████| 1.00/1.00 [00:00<00:00, 1.53batch/s]\n"
     ]
    },
    {
     "name": "stdout",
     "output_type": "stream",
     "text": [
      "\n",
      "      Epoch   GPU Mem.       Time      Acc@1      Acc@5\n"
     ]
    },
    {
     "name": "stderr",
     "output_type": "stream",
     "text": [
      "        4/5       5.6G     0.2879         16        100: 100%|██████████| 1.00/1.00 [00:00<00:00, 2.42batch/s]\n",
      "***   Best results: [Acc@1: 16.0], [Acc@5: 100.0]\n"
     ]
    },
    {
     "name": "stdout",
     "output_type": "stream",
     "text": [
      "\n",
      "      Epoch   GPU Mem.       Time       Loss         LR\n"
     ]
    },
    {
     "name": "stderr",
     "output_type": "stream",
     "text": [
      "        5/5       5.6G      1.077      1.342 9.5492e-05: 100%|██████████| 1.00/1.00 [00:00<00:00, 1.55batch/s]\n"
     ]
    },
    {
     "name": "stdout",
     "output_type": "stream",
     "text": [
      "\n",
      "      Epoch   GPU Mem.       Time      Acc@1      Acc@5\n"
     ]
    },
    {
     "name": "stderr",
     "output_type": "stream",
     "text": [
      "        5/5       5.6G      0.246         16        100: 100%|██████████| 1.00/1.00 [00:00<00:00, 2.79batch/s]\n",
      "***   Best results: [Acc@1: 16.0], [Acc@5: 100.0]\n"
     ]
    },
    {
     "name": "stdout",
     "output_type": "stream",
     "text": [
      "\n",
      "      Epoch   GPU Mem.       Time      Acc@1      Acc@5\n"
     ]
    },
    {
     "name": "stderr",
     "output_type": "stream",
     "text": [
      "        1/5       5.6G     0.2901         16        100: 100%|██████████| 1.00/1.00 [00:00<00:00, 2.52batch/s]\n",
      "***   Best results: [Acc@1: 16.0], [Acc@5: 100.0]\n"
     ]
    },
    {
     "data": {
      "text/plain": [
       "(16.0, 100.0)"
      ]
     },
     "execution_count": 14,
     "metadata": {},
     "output_type": "execute_result"
    }
   ],
   "source": [
    "from zhijian.trainers.base import prepare_trainer\n",
    "trainer = prepare_trainer(\n",
    "    args,\n",
    "    model=model, model_args=model_args, device=device,\n",
    "    train_loader=train_loader,\n",
    "    val_loader=val_loader,\n",
    "    num_classes=num_classes,\n",
    "    optimizer=optimizer,\n",
    "    lr_scheduler=lr_scheduler,\n",
    "    criterion=criterion\n",
    "    )\n",
    "\n",
    "trainer.fit()\n",
    "trainer.test()"
   ]
  },
  {
   "cell_type": "code",
   "execution_count": null,
   "metadata": {},
   "outputs": [],
   "source": []
  }
 ],
 "metadata": {
  "kernelspec": {
   "display_name": "Python 3 (ipykernel)",
   "language": "python",
   "name": "python3"
  },
  "language_info": {
   "codemirror_mode": {
    "name": "ipython",
    "version": 3
   },
   "file_extension": ".py",
   "mimetype": "text/x-python",
   "name": "python",
   "nbconvert_exporter": "python",
   "pygments_lexer": "ipython3",
   "version": "3.9.5"
  },
  "vscode": {
   "interpreter": {
    "hash": "aef8c794c46315d60454bf05d4c6e0fb35350cec57c35ee156a6f767eeff2df1"
   }
  }
 },
 "nbformat": 4,
 "nbformat_minor": 2
}
